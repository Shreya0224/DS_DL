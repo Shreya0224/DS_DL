{
 "cells": [
  {
   "cell_type": "code",
   "execution_count": 1,
   "id": "18cb5462-8f6e-4d9e-bd04-193e13b7df3a",
   "metadata": {},
   "outputs": [],
   "source": [
    "import numpy as np"
   ]
  },
  {
   "cell_type": "code",
   "execution_count": 2,
   "id": "13ac549c-3e1f-46aa-86bf-3c667722b659",
   "metadata": {},
   "outputs": [
    {
     "data": {
      "text/plain": [
       "array([[1, 2, 3],\n",
       "       [4, 5, 6]])"
      ]
     },
     "execution_count": 2,
     "metadata": {},
     "output_type": "execute_result"
    }
   ],
   "source": [
    "inputArray = np.array ([\n",
    "    [1,2,3],\n",
    "    [4,5,6]])\n",
    "\n",
    "inputArray"
   ]
  },
  {
   "cell_type": "code",
   "execution_count": 3,
   "id": "579ccf73-e1f3-4b62-b74b-f25bba94b4a3",
   "metadata": {},
   "outputs": [
    {
     "data": {
      "text/plain": [
       "(2, 3)"
      ]
     },
     "execution_count": 3,
     "metadata": {},
     "output_type": "execute_result"
    }
   ],
   "source": [
    "inputArray.shape"
   ]
  },
  {
   "cell_type": "code",
   "execution_count": 4,
   "id": "c25e4b4a-4aa2-4bdf-af7b-8930f82ec5e4",
   "metadata": {},
   "outputs": [
    {
     "data": {
      "text/plain": [
       "np.int64(5)"
      ]
     },
     "execution_count": 4,
     "metadata": {},
     "output_type": "execute_result"
    }
   ],
   "source": [
    "inputArray[1][1]"
   ]
  },
  {
   "cell_type": "code",
   "execution_count": 5,
   "id": "2027a9cc-3992-4381-8930-e6df3e8ca561",
   "metadata": {},
   "outputs": [
    {
     "data": {
      "text/plain": [
       "array([2, 3])"
      ]
     },
     "execution_count": 5,
     "metadata": {},
     "output_type": "execute_result"
    }
   ],
   "source": [
    "inputArray[0][1:]"
   ]
  },
  {
   "cell_type": "markdown",
   "id": "ac58c92c-0faf-4d0e-8559-f3da67c1827f",
   "metadata": {},
   "source": [
    "### sorting Array"
   ]
  },
  {
   "cell_type": "code",
   "execution_count": 6,
   "id": "24ac0a85-79d9-4d9b-9268-beba06f8984a",
   "metadata": {},
   "outputs": [
    {
     "data": {
      "text/plain": [
       "array([   2,    2,   34,   62, 1200])"
      ]
     },
     "execution_count": 6,
     "metadata": {},
     "output_type": "execute_result"
    }
   ],
   "source": [
    "arr = np.array([1200,34,2,62,2])\n",
    "np.sort(arr)"
   ]
  },
  {
   "cell_type": "code",
   "execution_count": null,
   "id": "2765b7db-6b25-4855-a8e3-910eecc50a46",
   "metadata": {},
   "outputs": [],
   "source": []
  }
 ],
 "metadata": {
  "kernelspec": {
   "display_name": "Python 3 (ipykernel)",
   "language": "python",
   "name": "python3"
  },
  "language_info": {
   "codemirror_mode": {
    "name": "ipython",
    "version": 3
   },
   "file_extension": ".py",
   "mimetype": "text/x-python",
   "name": "python",
   "nbconvert_exporter": "python",
   "pygments_lexer": "ipython3",
   "version": "3.12.9"
  }
 },
 "nbformat": 4,
 "nbformat_minor": 5
}
