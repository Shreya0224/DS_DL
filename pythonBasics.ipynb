{
 "cells": [
  {
   "cell_type": "markdown",
   "id": "a9cc509c-d63b-4b2f-bb89-9e18f090e257",
   "metadata": {},
   "source": [
    "### Multiply all the odd numbers in the given list"
   ]
  },
  {
   "cell_type": "code",
   "execution_count": 4,
   "id": "e0f80e2e-893e-4eff-a19c-de48dc75a876",
   "metadata": {},
   "outputs": [],
   "source": [
    "random_list=[1,2,3,4,5,6]\n"
   ]
  },
  {
   "cell_type": "code",
   "execution_count": 9,
   "id": "75fe111b-67aa-4a73-b192-f057e948f30a",
   "metadata": {},
   "outputs": [
    {
     "name": "stdout",
     "output_type": "stream",
     "text": [
      "answer:15\n"
     ]
    }
   ],
   "source": [
    "result=1\n",
    "\n",
    "for _ in random_list:\n",
    "    if _ % 2 !=0:\n",
    "       result *=_\n",
    "\n",
    "print(f'answer:{result}')"
   ]
  },
  {
   "cell_type": "code",
   "execution_count": null,
   "id": "0fcecc3b-10bf-4e5a-90a4-51f258510cb3",
   "metadata": {},
   "outputs": [],
   "source": []
  },
  {
   "cell_type": "code",
   "execution_count": null,
   "id": "9ce59d61-16b5-4ed5-a86a-ad244b16f897",
   "metadata": {},
   "outputs": [],
   "source": []
  },
  {
   "cell_type": "code",
   "execution_count": null,
   "id": "a1520950-9381-4363-b6d2-7263477942bf",
   "metadata": {},
   "outputs": [],
   "source": []
  }
 ],
 "metadata": {
  "kernelspec": {
   "display_name": "Python 3 (ipykernel)",
   "language": "python",
   "name": "python3"
  },
  "language_info": {
   "codemirror_mode": {
    "name": "ipython",
    "version": 3
   },
   "file_extension": ".py",
   "mimetype": "text/x-python",
   "name": "python",
   "nbconvert_exporter": "python",
   "pygments_lexer": "ipython3",
   "version": "3.12.9"
  }
 },
 "nbformat": 4,
 "nbformat_minor": 5
}
